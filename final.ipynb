{
 "cells": [
  {
   "cell_type": "code",
   "execution_count": 1,
   "id": "2648dcb7-2152-4491-b687-1b2ad1309177",
   "metadata": {
    "tags": []
   },
   "outputs": [],
   "source": [
    "import torch\n",
    "import torch.nn as nn\n",
    "import numpy as np\n",
    "import csv\n",
    "import pandas as pd\n",
    "import tensorflow as tf\n",
    "from sklearn.model_selection import train_test_split\n",
    "from sklearn.preprocessing import StandardScaler\n",
    "from sklearn.metrics import mean_squared_error\n",
    "from tensorflow import keras\n",
    "from tensorflow.keras import layers"
   ]
  },
  {
   "cell_type": "code",
   "execution_count": 2,
   "id": "ee5d0bfe-d37d-4bde-bdee-a7a8721637ca",
   "metadata": {
    "tags": []
   },
   "outputs": [],
   "source": [
    "data = pd.read_csv('d81a040c-429c-441b-b2bb-ee7f6f07c11e.csv')"
   ]
  },
  {
   "cell_type": "code",
   "execution_count": 3,
   "id": "21fe3762-4245-4f98-b7f8-6a6af89d66b8",
   "metadata": {
    "tags": []
   },
   "outputs": [],
   "source": [
    "data_dropped = data.dropna(axis = 'columns',how='all')    #delete columns with all NaN"
   ]
  },
  {
   "cell_type": "code",
   "execution_count": 4,
   "id": "ad7e2d9a-ce0f-4ed0-a101-a2cb981812b4",
   "metadata": {},
   "outputs": [],
   "source": [
    "data_dropped = data_dropped.dropna(subset=[\"建物移轉總面積平方公尺\"]) #只計算建物(刪除土地)\n",
    "data_dropped = data_dropped.drop(data_dropped[(data_dropped['總價元']>80000000 )| (data_dropped['總價元']<1000000)].index) \n",
    "data_dropped = data_dropped.drop(data_dropped[(data_dropped['單價每平方公尺']>200000 )| (data_dropped['單價每平方公尺']<20000)].index)\n",
    "data_dropped = data_dropped.drop(data_dropped[(data_dropped['主要建材']=='鋼造' ) ].index)"
   ]
  },
  {
   "cell_type": "code",
   "execution_count": 5,
   "id": "173b6225-787f-4a8e-b9fe-11af5a099a69",
   "metadata": {},
   "outputs": [],
   "source": [
    "data_dropped['車位總價元'] = data_dropped['車位總價元'].fillna(0)\n",
    "data_dropped['車位移轉總面積平方公尺'] = data_dropped['車位移轉總面積平方公尺'].fillna(0)"
   ]
  },
  {
   "cell_type": "code",
   "execution_count": 6,
   "id": "3c29be2f-c4a3-434d-980f-00fd67abe746",
   "metadata": {
    "tags": []
   },
   "outputs": [],
   "source": [
    "data_dropped['總價元'] = data_dropped['總價元'] - data_dropped['車位總價元']   #不計算車位價格\n",
    "data_dropped['建物移轉總面積平方公尺'] = data_dropped['建物移轉總面積平方公尺'] - data_dropped['車位移轉總面積平方公尺']\n",
    "data_dropped = data_dropped.drop('車位總價元', axis = 1)\n",
    "data_dropped = data_dropped.drop('車位移轉總面積平方公尺', axis = 1)"
   ]
  },
  {
   "cell_type": "code",
   "execution_count": 7,
   "id": "de26db03-412e-46f9-a8b1-c2a8f5708b37",
   "metadata": {
    "tags": []
   },
   "outputs": [],
   "source": [
    "data_dropped = data_dropped.drop('有無管理組織', axis=1)     #delete column (不重要(只有一個為有且看不出對價格有影響))\n",
    "data_dropped = data_dropped.drop('土地區段位置或建物區門牌', axis=1)  #delete column(太難量化, 僅參考鄉政市區)\n",
    "data_dropped = data_dropped.drop('非都市土地使用分區', axis=1)   #delete column (與非都市使用編地有為相同的參數)\n",
    "data_dropped = data_dropped.drop('都市土地使用分區', axis=1)   #delete column (與非都市使用編地有為互補的參數)\n",
    "data_dropped = data_dropped.drop('交易標的', axis=1)  #delete column (=土地,建物,車位)\n",
    "data_dropped = data_dropped.drop('備註', axis=1)   #delete column(車位以外的備註分析起來過難,且為數不多)\n",
    "data_dropped = data_dropped.drop('停車位所在樓層', axis=1) #delete column(影響過小且不好賦值)\n",
    "data_dropped = data_dropped.drop('車位類別', axis=1) #delete column(不計算車位)\n",
    "data_dropped = data_dropped.drop('特殊交易備註', axis=1) #delete column(難處理)\n",
    "data_dropped = data_dropped.drop('建物現況格局-隔間', axis=1) #delete column (重複參數)\n",
    "data_dropped = data_dropped.drop('主要用途', axis=1) #delete column (大部分資料為其他,不知道要怎麼補)\n",
    "data_dropped = data_dropped.drop('交易年月日', axis=1)\n",
    "data_dropped = data_dropped.drop('建築完成年月', axis=1)\n",
    "data_dropped = data_dropped.drop('土地移轉總面積平方公尺', axis=1)"
   ]
  },
  {
   "cell_type": "code",
   "execution_count": 8,
   "id": "f1b8f132-e26b-4fba-b294-b758db5a2f4f",
   "metadata": {
    "tags": []
   },
   "outputs": [],
   "source": [
    "data_dropped['temp1'] = data_dropped['交易筆棟數'].map(lambda x:x.split('地')[1])   #separate column '交易筆棟數' to two columns (內有兩個參數)\n",
    "data_dropped['土地'] = data_dropped['temp1'].map(lambda x:x.split('建')[0])\n",
    "data_dropped['temp2'] = data_dropped['temp1'].map(lambda x:x.split('物')[1])\n",
    "data_dropped['建物'] = data_dropped['temp2'].map(lambda x:x.split('車')[0])\n",
    "\n",
    "data_dropped = data_dropped.drop('temp1', axis=1)\n",
    "data_dropped = data_dropped.drop('temp2', axis=1)\n",
    "data_dropped = data_dropped.drop('交易筆棟數', axis=1)"
   ]
  },
  {
   "cell_type": "code",
   "execution_count": 9,
   "id": "455f95d3-4b3c-426c-ad2b-423db3658767",
   "metadata": {},
   "outputs": [],
   "source": [
    "data_dropped = data_dropped.drop('總價元', axis=1) #delete column(target為單位價格)\n"
   ]
  },
  {
   "cell_type": "code",
   "execution_count": 10,
   "id": "65f1f1bb-b4a2-4fcd-a475-a6cbb159d077",
   "metadata": {},
   "outputs": [],
   "source": [
    "#此欄為nan者為低樓層平房或透天厝,故填0   #轉換離散資料\n",
    "floorabove5 = {'一層':0, '二層':0, '三層':0, '四層':0, '五層':1, '六層':1, '七層':1, '八層':1, '九層':1, '十層':1, '十一層':0, '十二層':0, '十三層':0, '十四層':0, '十五層':0, '十六層':0, '十七層':0, '十八層':0, '十九層':0, '二十層':0, '二十一層':0, '二十二層':0, '二十三層':0, '二十四層':0, '二十五層':0, '二十六層':0, '二十七層':0, '二十八層':0, '二十九層':0 }\n",
    "data_dropped[ '五層至十層' ] = data_dropped[ '移轉層次' ].map(floorabove5) \n",
    "data_dropped['五層至十層'] = data_dropped['五層至十層'].fillna(0)\n",
    "floorabove10 = {'一層':0, '二層':0, '三層':0, '四層':0, '五層':0, '六層':0, '七層':0, '八層':0, '九層':0, '十層':1, '十一層':1, '十二層':1, '十三層':1, '十四層':1, '十五層':1, '十六層':0, '十七層':0, '十八層':0, '十九層':0, '二十層':0, '二十一層':0, '二十二層':0, '二十三層':0, '二十四層':0, '二十五層':0, '二十六層':0, '二十七層':0, '二十八層':0, '二十九層':0 }\n",
    "data_dropped[ '十層至十五層' ] = data_dropped[ '移轉層次' ].map(floorabove10)  \n",
    "data_dropped['十層至十五層'] = data_dropped['十層至十五層'].fillna(0)\n",
    "floorabove15 = { '一層':0, '二層':0, '三層':0, '四層':0, '五層':0, '六層':0, '七層':0, '八層':0, '九層':0, '十層':0, '十一層':0, '十二層':0, '十三層':0, '十四層':0, '十五層':1, '十六層':1, '十七層':1, '十八層':1, '十九層':1, '二十層':1, '二十一層':0, '二十二層':0, '二十三層':0, '二十四層':0, '二十五層':0, '二十六層':0, '二十七層':0, '二十八層':0, '二十九層':0 }\n",
    "data_dropped[ '十五層至二十層' ] = data_dropped[ '移轉層次' ].map(floorabove15)  \n",
    "data_dropped['十五層至二十層'] = data_dropped['十五層至二十層'].fillna(0)\n",
    "floorabove20 = {'一層':0, '二層':0, '三層':0, '四層':0, '五層':0, '六層':0, '七層':0, '八層':0, '九層':0, '十層':0, '十一層':0, '十二層':0, '十三層':0, '十四層':0, '十五層':0, '十六層':0, '十七層':0, '十八層':0, '十九層':0, '二十層':1, '二十一層':1, '二十二層':1, '二十三層':1, '二十四層':1, '二十五層':1, '二十六層':1, '二十七層':1, '二十八層':1, '二十九層':1 }\n",
    "data_dropped[ '二十層以上' ] = data_dropped[ '移轉層次' ].map(floorabove20) \n",
    "data_dropped['二十層以上'] = data_dropped['二十層以上'].fillna(0)\n",
    "data_dropped = data_dropped.drop('移轉層次', axis=1)"
   ]
  },
  {
   "cell_type": "code",
   "execution_count": 11,
   "id": "1ba424ac-bdee-4a3a-83c0-8ccedbb20d90",
   "metadata": {},
   "outputs": [],
   "source": [
    "elevator = { '無':0, '有':1} #轉換離散資料\n",
    "data_dropped[ '電梯' ] = data_dropped[ '電梯' ].map(elevator)"
   ]
  },
  {
   "cell_type": "code",
   "execution_count": 12,
   "id": "dd7a1bb6-1bd1-4009-889e-56005d3255f9",
   "metadata": {},
   "outputs": [],
   "source": [
    "type0 = { '透天厝':1, '公寓':0, '住宅大樓':0, '華夏':0 }  ##轉換離散資料\n",
    "data_dropped[ '透天厝' ] = data_dropped[ '建物型態' ].map(type0)  \n",
    "type1 = { '透天厝':0, '公寓':1, '住宅大樓':0, '華夏':0 }\n",
    "data_dropped[ '公寓' ] = data_dropped[ '建物型態' ].map(type1) \n",
    "type2 = { '透天厝':0, '公寓':0, '住宅大樓':1, '華夏':0 }\n",
    "data_dropped[ '住宅大樓' ] = data_dropped[ '建物型態' ].map(type2) \n",
    "data_dropped = data_dropped.drop('建物型態', axis=1)"
   ]
  },
  {
   "cell_type": "code",
   "execution_count": 13,
   "id": "5971607c-fcfe-4257-8406-a6c0e1f705b3",
   "metadata": {},
   "outputs": [],
   "source": [
    "materials1 = { '鋼骨鋼筋混凝土造':1, '鋼筋混凝土造':0, '加強磚造':0, '磚造':0, '見其他登記事項':0.25,'木造':0,} ##轉換離散資料\n",
    "data_dropped[ '鋼骨鋼筋混凝土造' ] = data_dropped[ '主要建材' ].map(materials1)\n",
    "materials2 = { '鋼骨鋼筋混凝土造':0, '鋼筋混凝土造':1, '加強磚造':0, '磚造':0, '見其他登記事項':0.25,'木造':0,}\n",
    "data_dropped[ '鋼筋混凝土造' ] = data_dropped[ '主要建材' ].map(materials2)\n",
    "materials3 = { '鋼骨鋼筋混凝土造':0, '鋼筋混凝土造':0, '加強磚造':1, '磚造':0, '見其他登記事項':0.25,'木造':0,}\n",
    "data_dropped[ '加強磚造' ] = data_dropped[ '主要建材' ].map(materials3)\n",
    "materials4 = { '鋼骨鋼筋混凝土造':0, '鋼筋混凝土造':0, '加強磚造':0, '磚造':1, '見其他登記事項':0.25,'木造':0,}\n",
    "data_dropped[ '磚造' ] = data_dropped[ '主要建材' ].map(materials4)\n",
    "data_dropped = data_dropped.drop('主要建材', axis=1)"
   ]
  },
  {
   "cell_type": "code",
   "execution_count": 14,
   "id": "8a5c17fa-6a1e-43d6-b624-94820bb8d007",
   "metadata": {},
   "outputs": [],
   "source": [
    "location1 = { '安平區':1, '北區':1, '中西區':1, '東區':1, '永康區':0, '仁德區':0,'南區':1,'新市區':0,'善化區':0,'歸仁區':0,'新化區':0,'安定區':0,'安南區':1, '新營區':0, '鹽水區':0, '白河區':0, '麻豆區':0, '佳里區':0, '學甲區':0, '後壁區':0, '東山區':0, '下營區':0, '六甲區':0, '官田區':0, '大內區':0, '西港區':0, '七股區':0, '將軍區':0, '北門區':0, '安定區':0, '山上區':0, '玉井區':0, '楠西區':0, '南化區':0, '左鎮區':0, '關廟區':0, '龍崎區':0,}\n",
    "data_dropped[ '原台南市' ] = data_dropped[ '鄉鎮市區' ].map(location1)   #轉換離散資料\n",
    "data_dropped = data_dropped.drop('鄉鎮市區', axis=1)"
   ]
  },
  {
   "cell_type": "code",
   "execution_count": 15,
   "id": "d95f6bf1-b0be-45be-83dc-644d0b3821ab",
   "metadata": {},
   "outputs": [],
   "source": [
    "use = { '農牧用地':1, '乙種建築用地':1, '甲種建築用地':1, '交通用地':1, '特定目的事業用地':1,'林業用地':1 }   #無特殊標記與其他\n",
    "data_dropped[ '非都市土地使用編定' ] = data_dropped[ '非都市土地使用編定' ].map(use)\n",
    "data_dropped['非都市土地使用編定'] = data_dropped['非都市土地使用編定'].fillna(0)"
   ]
  },
  {
   "cell_type": "code",
   "execution_count": 16,
   "id": "7141c455-f3c3-451f-994f-0fe0e93c5100",
   "metadata": {},
   "outputs": [],
   "source": [
    "data_dropped['土地'] = data_dropped['土地'].astype(str).astype(int)\n",
    "data_dropped['建物'] = data_dropped['建物'].astype(str).astype(int)"
   ]
  },
  {
   "cell_type": "code",
   "execution_count": null,
   "id": "4ea56901-ac21-45cd-927d-e52fd52662c3",
   "metadata": {
    "scrolled": true
   },
   "outputs": [],
   "source": [
    "\n"
   ]
  },
  {
   "cell_type": "code",
   "execution_count": 17,
   "id": "0d7128e9-ae80-43eb-976e-cdc3101bff24",
   "metadata": {},
   "outputs": [],
   "source": [
    "data_dropped = data_dropped.dropna()"
   ]
  },
  {
   "cell_type": "code",
   "execution_count": 18,
   "id": "aa0d7131-7a5a-4185-9949-96775a9d481f",
   "metadata": {
    "scrolled": true
   },
   "outputs": [
    {
     "data": {
      "text/html": [
       "<div>\n",
       "<style scoped>\n",
       "    .dataframe tbody tr th:only-of-type {\n",
       "        vertical-align: middle;\n",
       "    }\n",
       "\n",
       "    .dataframe tbody tr th {\n",
       "        vertical-align: top;\n",
       "    }\n",
       "\n",
       "    .dataframe thead th {\n",
       "        text-align: right;\n",
       "    }\n",
       "</style>\n",
       "<table border=\"1\" class=\"dataframe\">\n",
       "  <thead>\n",
       "    <tr style=\"text-align: right;\">\n",
       "      <th></th>\n",
       "      <th>非都市土地使用編定</th>\n",
       "      <th>總樓層數</th>\n",
       "      <th>建物移轉總面積平方公尺</th>\n",
       "      <th>建物現況格局-房</th>\n",
       "      <th>建物現況格局-廳</th>\n",
       "      <th>建物現況格局-衛</th>\n",
       "      <th>單價每平方公尺</th>\n",
       "      <th>電梯</th>\n",
       "      <th>土地</th>\n",
       "      <th>建物</th>\n",
       "      <th>...</th>\n",
       "      <th>十五層至二十層</th>\n",
       "      <th>二十層以上</th>\n",
       "      <th>透天厝</th>\n",
       "      <th>公寓</th>\n",
       "      <th>住宅大樓</th>\n",
       "      <th>鋼骨鋼筋混凝土造</th>\n",
       "      <th>鋼筋混凝土造</th>\n",
       "      <th>加強磚造</th>\n",
       "      <th>磚造</th>\n",
       "      <th>原台南市</th>\n",
       "    </tr>\n",
       "  </thead>\n",
       "  <tbody>\n",
       "    <tr>\n",
       "      <th>0</th>\n",
       "      <td>0.0</td>\n",
       "      <td>4.0</td>\n",
       "      <td>273.59</td>\n",
       "      <td>5.0</td>\n",
       "      <td>2.0</td>\n",
       "      <td>5.0</td>\n",
       "      <td>86554</td>\n",
       "      <td>0</td>\n",
       "      <td>2</td>\n",
       "      <td>1</td>\n",
       "      <td>...</td>\n",
       "      <td>0.0</td>\n",
       "      <td>0.0</td>\n",
       "      <td>1.0</td>\n",
       "      <td>0.0</td>\n",
       "      <td>0.0</td>\n",
       "      <td>0.00</td>\n",
       "      <td>1.00</td>\n",
       "      <td>0.00</td>\n",
       "      <td>0.00</td>\n",
       "      <td>1.0</td>\n",
       "    </tr>\n",
       "    <tr>\n",
       "      <th>1</th>\n",
       "      <td>0.0</td>\n",
       "      <td>4.0</td>\n",
       "      <td>234.84</td>\n",
       "      <td>5.0</td>\n",
       "      <td>2.0</td>\n",
       "      <td>5.0</td>\n",
       "      <td>77500</td>\n",
       "      <td>0</td>\n",
       "      <td>2</td>\n",
       "      <td>1</td>\n",
       "      <td>...</td>\n",
       "      <td>0.0</td>\n",
       "      <td>0.0</td>\n",
       "      <td>1.0</td>\n",
       "      <td>0.0</td>\n",
       "      <td>0.0</td>\n",
       "      <td>0.00</td>\n",
       "      <td>1.00</td>\n",
       "      <td>0.00</td>\n",
       "      <td>0.00</td>\n",
       "      <td>1.0</td>\n",
       "    </tr>\n",
       "    <tr>\n",
       "      <th>2</th>\n",
       "      <td>0.0</td>\n",
       "      <td>4.0</td>\n",
       "      <td>194.10</td>\n",
       "      <td>5.0</td>\n",
       "      <td>2.0</td>\n",
       "      <td>4.0</td>\n",
       "      <td>82330</td>\n",
       "      <td>0</td>\n",
       "      <td>2</td>\n",
       "      <td>1</td>\n",
       "      <td>...</td>\n",
       "      <td>0.0</td>\n",
       "      <td>0.0</td>\n",
       "      <td>1.0</td>\n",
       "      <td>0.0</td>\n",
       "      <td>0.0</td>\n",
       "      <td>0.00</td>\n",
       "      <td>1.00</td>\n",
       "      <td>0.00</td>\n",
       "      <td>0.00</td>\n",
       "      <td>1.0</td>\n",
       "    </tr>\n",
       "    <tr>\n",
       "      <th>3</th>\n",
       "      <td>0.0</td>\n",
       "      <td>4.0</td>\n",
       "      <td>259.43</td>\n",
       "      <td>5.0</td>\n",
       "      <td>2.0</td>\n",
       "      <td>5.0</td>\n",
       "      <td>77093</td>\n",
       "      <td>0</td>\n",
       "      <td>2</td>\n",
       "      <td>1</td>\n",
       "      <td>...</td>\n",
       "      <td>0.0</td>\n",
       "      <td>0.0</td>\n",
       "      <td>1.0</td>\n",
       "      <td>0.0</td>\n",
       "      <td>0.0</td>\n",
       "      <td>0.00</td>\n",
       "      <td>1.00</td>\n",
       "      <td>0.00</td>\n",
       "      <td>0.00</td>\n",
       "      <td>1.0</td>\n",
       "    </tr>\n",
       "    <tr>\n",
       "      <th>4</th>\n",
       "      <td>0.0</td>\n",
       "      <td>4.0</td>\n",
       "      <td>234.84</td>\n",
       "      <td>5.0</td>\n",
       "      <td>2.0</td>\n",
       "      <td>5.0</td>\n",
       "      <td>76223</td>\n",
       "      <td>0</td>\n",
       "      <td>2</td>\n",
       "      <td>1</td>\n",
       "      <td>...</td>\n",
       "      <td>0.0</td>\n",
       "      <td>0.0</td>\n",
       "      <td>1.0</td>\n",
       "      <td>0.0</td>\n",
       "      <td>0.0</td>\n",
       "      <td>0.00</td>\n",
       "      <td>1.00</td>\n",
       "      <td>0.00</td>\n",
       "      <td>0.00</td>\n",
       "      <td>1.0</td>\n",
       "    </tr>\n",
       "    <tr>\n",
       "      <th>...</th>\n",
       "      <td>...</td>\n",
       "      <td>...</td>\n",
       "      <td>...</td>\n",
       "      <td>...</td>\n",
       "      <td>...</td>\n",
       "      <td>...</td>\n",
       "      <td>...</td>\n",
       "      <td>...</td>\n",
       "      <td>...</td>\n",
       "      <td>...</td>\n",
       "      <td>...</td>\n",
       "      <td>...</td>\n",
       "      <td>...</td>\n",
       "      <td>...</td>\n",
       "      <td>...</td>\n",
       "      <td>...</td>\n",
       "      <td>...</td>\n",
       "      <td>...</td>\n",
       "      <td>...</td>\n",
       "      <td>...</td>\n",
       "      <td>...</td>\n",
       "    </tr>\n",
       "    <tr>\n",
       "      <th>10415</th>\n",
       "      <td>0.0</td>\n",
       "      <td>2.0</td>\n",
       "      <td>78.68</td>\n",
       "      <td>3.0</td>\n",
       "      <td>2.0</td>\n",
       "      <td>1.0</td>\n",
       "      <td>50839</td>\n",
       "      <td>0</td>\n",
       "      <td>1</td>\n",
       "      <td>1</td>\n",
       "      <td>...</td>\n",
       "      <td>0.0</td>\n",
       "      <td>0.0</td>\n",
       "      <td>1.0</td>\n",
       "      <td>0.0</td>\n",
       "      <td>0.0</td>\n",
       "      <td>0.00</td>\n",
       "      <td>0.00</td>\n",
       "      <td>1.00</td>\n",
       "      <td>0.00</td>\n",
       "      <td>0.0</td>\n",
       "    </tr>\n",
       "    <tr>\n",
       "      <th>10416</th>\n",
       "      <td>0.0</td>\n",
       "      <td>6.0</td>\n",
       "      <td>119.26</td>\n",
       "      <td>3.0</td>\n",
       "      <td>1.0</td>\n",
       "      <td>2.0</td>\n",
       "      <td>53665</td>\n",
       "      <td>1</td>\n",
       "      <td>1</td>\n",
       "      <td>1</td>\n",
       "      <td>...</td>\n",
       "      <td>0.0</td>\n",
       "      <td>0.0</td>\n",
       "      <td>0.0</td>\n",
       "      <td>0.0</td>\n",
       "      <td>0.0</td>\n",
       "      <td>0.00</td>\n",
       "      <td>1.00</td>\n",
       "      <td>0.00</td>\n",
       "      <td>0.00</td>\n",
       "      <td>0.0</td>\n",
       "    </tr>\n",
       "    <tr>\n",
       "      <th>10419</th>\n",
       "      <td>0.0</td>\n",
       "      <td>5.0</td>\n",
       "      <td>82.28</td>\n",
       "      <td>2.0</td>\n",
       "      <td>2.0</td>\n",
       "      <td>1.0</td>\n",
       "      <td>38283</td>\n",
       "      <td>1</td>\n",
       "      <td>2</td>\n",
       "      <td>1</td>\n",
       "      <td>...</td>\n",
       "      <td>0.0</td>\n",
       "      <td>0.0</td>\n",
       "      <td>0.0</td>\n",
       "      <td>0.0</td>\n",
       "      <td>0.0</td>\n",
       "      <td>0.00</td>\n",
       "      <td>1.00</td>\n",
       "      <td>0.00</td>\n",
       "      <td>0.00</td>\n",
       "      <td>0.0</td>\n",
       "    </tr>\n",
       "    <tr>\n",
       "      <th>10421</th>\n",
       "      <td>0.0</td>\n",
       "      <td>5.0</td>\n",
       "      <td>252.14</td>\n",
       "      <td>5.0</td>\n",
       "      <td>2.0</td>\n",
       "      <td>5.0</td>\n",
       "      <td>108987</td>\n",
       "      <td>0</td>\n",
       "      <td>1</td>\n",
       "      <td>1</td>\n",
       "      <td>...</td>\n",
       "      <td>0.0</td>\n",
       "      <td>0.0</td>\n",
       "      <td>1.0</td>\n",
       "      <td>0.0</td>\n",
       "      <td>0.0</td>\n",
       "      <td>0.25</td>\n",
       "      <td>0.25</td>\n",
       "      <td>0.25</td>\n",
       "      <td>0.25</td>\n",
       "      <td>0.0</td>\n",
       "    </tr>\n",
       "    <tr>\n",
       "      <th>10424</th>\n",
       "      <td>0.0</td>\n",
       "      <td>3.0</td>\n",
       "      <td>164.42</td>\n",
       "      <td>5.0</td>\n",
       "      <td>2.0</td>\n",
       "      <td>3.0</td>\n",
       "      <td>85148</td>\n",
       "      <td>0</td>\n",
       "      <td>1</td>\n",
       "      <td>1</td>\n",
       "      <td>...</td>\n",
       "      <td>0.0</td>\n",
       "      <td>0.0</td>\n",
       "      <td>1.0</td>\n",
       "      <td>0.0</td>\n",
       "      <td>0.0</td>\n",
       "      <td>0.25</td>\n",
       "      <td>0.25</td>\n",
       "      <td>0.25</td>\n",
       "      <td>0.25</td>\n",
       "      <td>0.0</td>\n",
       "    </tr>\n",
       "  </tbody>\n",
       "</table>\n",
       "<p>6789 rows × 22 columns</p>\n",
       "</div>"
      ],
      "text/plain": [
       "       非都市土地使用編定  總樓層數  建物移轉總面積平方公尺  建物現況格局-房  建物現況格局-廳  建物現況格局-衛  單價每平方公尺  \\\n",
       "0            0.0   4.0       273.59       5.0       2.0       5.0    86554   \n",
       "1            0.0   4.0       234.84       5.0       2.0       5.0    77500   \n",
       "2            0.0   4.0       194.10       5.0       2.0       4.0    82330   \n",
       "3            0.0   4.0       259.43       5.0       2.0       5.0    77093   \n",
       "4            0.0   4.0       234.84       5.0       2.0       5.0    76223   \n",
       "...          ...   ...          ...       ...       ...       ...      ...   \n",
       "10415        0.0   2.0        78.68       3.0       2.0       1.0    50839   \n",
       "10416        0.0   6.0       119.26       3.0       1.0       2.0    53665   \n",
       "10419        0.0   5.0        82.28       2.0       2.0       1.0    38283   \n",
       "10421        0.0   5.0       252.14       5.0       2.0       5.0   108987   \n",
       "10424        0.0   3.0       164.42       5.0       2.0       3.0    85148   \n",
       "\n",
       "       電梯  土地  建物  ...  十五層至二十層  二十層以上  透天厝   公寓  住宅大樓  鋼骨鋼筋混凝土造  鋼筋混凝土造  \\\n",
       "0       0   2   1  ...      0.0    0.0  1.0  0.0   0.0      0.00    1.00   \n",
       "1       0   2   1  ...      0.0    0.0  1.0  0.0   0.0      0.00    1.00   \n",
       "2       0   2   1  ...      0.0    0.0  1.0  0.0   0.0      0.00    1.00   \n",
       "3       0   2   1  ...      0.0    0.0  1.0  0.0   0.0      0.00    1.00   \n",
       "4       0   2   1  ...      0.0    0.0  1.0  0.0   0.0      0.00    1.00   \n",
       "...    ..  ..  ..  ...      ...    ...  ...  ...   ...       ...     ...   \n",
       "10415   0   1   1  ...      0.0    0.0  1.0  0.0   0.0      0.00    0.00   \n",
       "10416   1   1   1  ...      0.0    0.0  0.0  0.0   0.0      0.00    1.00   \n",
       "10419   1   2   1  ...      0.0    0.0  0.0  0.0   0.0      0.00    1.00   \n",
       "10421   0   1   1  ...      0.0    0.0  1.0  0.0   0.0      0.25    0.25   \n",
       "10424   0   1   1  ...      0.0    0.0  1.0  0.0   0.0      0.25    0.25   \n",
       "\n",
       "       加強磚造    磚造  原台南市  \n",
       "0      0.00  0.00   1.0  \n",
       "1      0.00  0.00   1.0  \n",
       "2      0.00  0.00   1.0  \n",
       "3      0.00  0.00   1.0  \n",
       "4      0.00  0.00   1.0  \n",
       "...     ...   ...   ...  \n",
       "10415  1.00  0.00   0.0  \n",
       "10416  0.00  0.00   0.0  \n",
       "10419  0.00  0.00   0.0  \n",
       "10421  0.25  0.25   0.0  \n",
       "10424  0.25  0.25   0.0  \n",
       "\n",
       "[6789 rows x 22 columns]"
      ]
     },
     "execution_count": 18,
     "metadata": {},
     "output_type": "execute_result"
    }
   ],
   "source": [
    "data_dropped"
   ]
  },
  {
   "cell_type": "code",
   "execution_count": 19,
   "id": "32f4e6b4-217c-417d-89f9-cd2a8e315431",
   "metadata": {},
   "outputs": [
    {
     "data": {
      "text/plain": [
       "非都市土地使用編定      float64\n",
       "總樓層數           float64\n",
       "建物移轉總面積平方公尺    float64\n",
       "建物現況格局-房       float64\n",
       "建物現況格局-廳       float64\n",
       "建物現況格局-衛       float64\n",
       "單價每平方公尺          int64\n",
       "電梯               int64\n",
       "土地               int32\n",
       "建物               int32\n",
       "五層至十層          float64\n",
       "十層至十五層         float64\n",
       "十五層至二十層        float64\n",
       "二十層以上          float64\n",
       "透天厝            float64\n",
       "公寓             float64\n",
       "住宅大樓           float64\n",
       "鋼骨鋼筋混凝土造       float64\n",
       "鋼筋混凝土造         float64\n",
       "加強磚造           float64\n",
       "磚造             float64\n",
       "原台南市           float64\n",
       "dtype: object"
      ]
     },
     "execution_count": 19,
     "metadata": {},
     "output_type": "execute_result"
    }
   ],
   "source": [
    "data_dropped.dtypes  "
   ]
  },
  {
   "cell_type": "code",
   "execution_count": 20,
   "id": "07ba3484-ce57-433c-88be-cc18c1cc192a",
   "metadata": {},
   "outputs": [],
   "source": [
    "X = data_dropped.drop('單價每平方公尺', axis=1)   #將目標切出來\n",
    "y = data_dropped['單價每平方公尺']"
   ]
  },
  {
   "cell_type": "code",
   "execution_count": 21,
   "id": "002d0b9e-ccb2-4b35-b71e-366bdf341b3f",
   "metadata": {},
   "outputs": [],
   "source": [
    "X_train, X_VT, y_train, y_VT = train_test_split(X, y, test_size=0.3, random_state=42)  #切分資料 \n",
    "X_valid, X_test, y_valid, y_test = train_test_split(X_VT, y_VT, test_size=0.67, random_state=42)"
   ]
  },
  {
   "cell_type": "code",
   "execution_count": 22,
   "id": "befba351-1ff1-41dc-a7ca-6626100943b7",
   "metadata": {},
   "outputs": [
    {
     "data": {
      "text/plain": [
       "非都市土地使用編定        0.00\n",
       "總樓層數            22.00\n",
       "建物移轉總面積平方公尺    135.39\n",
       "建物現況格局-房         0.00\n",
       "建物現況格局-廳         2.00\n",
       "建物現況格局-衛         2.00\n",
       "電梯               1.00\n",
       "土地               1.00\n",
       "建物               1.00\n",
       "五層至十層            0.00\n",
       "十層至十五層           0.00\n",
       "十五層至二十層          1.00\n",
       "二十層以上            1.00\n",
       "透天厝              0.00\n",
       "公寓               0.00\n",
       "住宅大樓             1.00\n",
       "鋼骨鋼筋混凝土造         0.00\n",
       "鋼筋混凝土造           1.00\n",
       "加強磚造             0.00\n",
       "磚造               0.00\n",
       "原台南市             1.00\n",
       "Name: 289, dtype: float64"
      ]
     },
     "execution_count": 22,
     "metadata": {},
     "output_type": "execute_result"
    }
   ],
   "source": [
    "X_test.iloc[1].values\n",
    "X_test.iloc[1]\n"
   ]
  },
  {
   "cell_type": "code",
   "execution_count": 23,
   "id": "91764b0f-05b1-4060-bccd-47ebef3f8234",
   "metadata": {},
   "outputs": [],
   "source": [
    "scaler = StandardScaler()   \n",
    "X_train_scaled = scaler.fit_transform(X_train)\n",
    "X_valid_scaled = scaler.transform(X_valid)"
   ]
  },
  {
   "cell_type": "code",
   "execution_count": 24,
   "id": "27d82381-cee7-4104-ab70-860bd9c91cd0",
   "metadata": {},
   "outputs": [],
   "source": [
    "X_train_tensor = torch.tensor(X_train_scaled, dtype=torch.float32)   \n",
    "X_valid_tensor = torch.tensor(X_valid_scaled, dtype=torch.float32)\n",
    "y_train_tensor = torch.tensor(y_train.values, dtype=torch.float32)\n",
    "y_valid_tensor = torch.tensor(y_valid.values, dtype=torch.float32)\n",
    "\n",
    "batch_size = 64\n",
    "train_data = torch.utils.data.TensorDataset(X_train_tensor, y_train_tensor)\n",
    "train_loader = torch.utils.data.DataLoader(train_data, batch_size=batch_size, shuffle=True)"
   ]
  },
  {
   "cell_type": "code",
   "execution_count": 25,
   "id": "0e72398c-c91c-439c-972e-54a02eb5996f",
   "metadata": {},
   "outputs": [],
   "source": [
    "class Tainanhouse(nn.Module):  #三層全連接層\n",
    "    def __init__(self, input_size):\n",
    "        super(Tainanhouse, self).__init__()\n",
    "        self.fc1 = nn.Linear(input_size,64)  \n",
    "        self.relu1 = nn.ReLU()\n",
    "        self.fc2 = nn.Linear(64,32)\n",
    "        self.relu2 = nn.ReLU()\n",
    "        self.fc3 = nn.Linear(32,1)\n",
    "\n",
    "    def forward(self, x):\n",
    "        \n",
    "        x = self.fc1(x)\n",
    "        x = self.relu1(x)\n",
    "        x = self.fc2(x)\n",
    "        x = self.relu2(x)\n",
    "        x = self.fc3(x)\n",
    "        x = x.squeeze(-1)\n",
    "        return x"
   ]
  },
  {
   "cell_type": "code",
   "execution_count": 26,
   "id": "047c1c61-6558-4e95-8388-b83ffcd0b8b2",
   "metadata": {},
   "outputs": [],
   "source": [
    "model = Tainanhouse(input_size = X_train.shape[1])\n",
    "criterion = nn.MSELoss()   #均方誤差\n",
    "optimizer1 = torch.optim.SGD(model.parameters(), lr=0.01)\n",
    "optimizer2 = torch.optim.Adam(model.parameters(), lr=0.01, betas=(0.9, 0.99), eps=1e-08, weight_decay=0, amsgrad=False)\n",
    "optimizer3 = torch.optim.Adagrad(model.parameters(), lr=0.01, lr_decay=0, weight_decay=0, initial_accumulator_value=0)\n",
    "optimizer4 = torch.optim.RMSprop(model.parameters(), lr=0.01, alpha=0.9, eps=1e-08, weight_decay=0, momentum=0, centered=False)\n",
    "optimizer5 = torch.optim.RMSprop(model.parameters(), lr=0.1, alpha=0.99, eps=1e-08, weight_decay=0, momentum=0, centered=False)"
   ]
  },
  {
   "cell_type": "code",
   "execution_count": 27,
   "id": "02159ab5-6866-43a3-8540-3c7365936772",
   "metadata": {},
   "outputs": [
    {
     "name": "stdout",
     "output_type": "stream",
     "text": [
      "Epoch [10/1000], Loss: 450553844.26666665\n",
      "Epoch [20/1000], Loss: 424817722.4533333\n",
      "Epoch [30/1000], Loss: 417814127.5733333\n",
      "Epoch [40/1000], Loss: 413735263.04\n",
      "Epoch [50/1000], Loss: 416191301.76\n",
      "Epoch [60/1000], Loss: 414648217.17333335\n",
      "Epoch [70/1000], Loss: 411174266.6666667\n",
      "Epoch [80/1000], Loss: 411001886.29333335\n",
      "Epoch [90/1000], Loss: 409329370.4533333\n",
      "Epoch [100/1000], Loss: 410535723.94666666\n",
      "Epoch [110/1000], Loss: 410860185.81333333\n",
      "Epoch [120/1000], Loss: 409896403.84\n",
      "Epoch [130/1000], Loss: 407657732.26666665\n",
      "Epoch [140/1000], Loss: 407016040.74666667\n",
      "Epoch [150/1000], Loss: 405148789.5466667\n",
      "Epoch [160/1000], Loss: 405994167.25333333\n",
      "Epoch [170/1000], Loss: 402916601.6\n",
      "Epoch [180/1000], Loss: 403848412.58666664\n",
      "Epoch [190/1000], Loss: 403204827.3066667\n",
      "Epoch [200/1000], Loss: 403928488.32\n",
      "Epoch [210/1000], Loss: 401245976.1066667\n",
      "Epoch [220/1000], Loss: 410854776.74666667\n",
      "Epoch [230/1000], Loss: 404193685.5466667\n",
      "Epoch [240/1000], Loss: 402313753.6\n",
      "Epoch [250/1000], Loss: 399878700.16\n",
      "Epoch [260/1000], Loss: 398905090.56\n",
      "Epoch [270/1000], Loss: 392079400.74666667\n",
      "Epoch [280/1000], Loss: 391418023.25333333\n",
      "Epoch [290/1000], Loss: 390353711.7866667\n",
      "Epoch [300/1000], Loss: 384189786.24\n",
      "Epoch [310/1000], Loss: 380643418.02666664\n",
      "Epoch [320/1000], Loss: 377558376.53333336\n",
      "Epoch [330/1000], Loss: 375464016.85333335\n",
      "Epoch [340/1000], Loss: 374879460.26666665\n",
      "Epoch [350/1000], Loss: 370086859.52\n",
      "Epoch [360/1000], Loss: 370835446.82666665\n",
      "Epoch [370/1000], Loss: 366072830.72\n",
      "Epoch [380/1000], Loss: 364208456.74666667\n",
      "Epoch [390/1000], Loss: 366924691.62666667\n",
      "Epoch [400/1000], Loss: 358968929.92\n",
      "Epoch [410/1000], Loss: 355985029.76\n",
      "Epoch [420/1000], Loss: 353778202.88\n",
      "Epoch [430/1000], Loss: 350885322.24\n",
      "Epoch [440/1000], Loss: 350683130.6666667\n",
      "Epoch [450/1000], Loss: 347203256.32\n",
      "Epoch [460/1000], Loss: 350379472.2133333\n",
      "Epoch [470/1000], Loss: 343055040.64\n",
      "Epoch [480/1000], Loss: 339599872.4266667\n",
      "Epoch [490/1000], Loss: 338732002.7733333\n",
      "Epoch [500/1000], Loss: 335665991.04\n",
      "Epoch [510/1000], Loss: 335008313.81333333\n",
      "Epoch [520/1000], Loss: 333367992.1066667\n",
      "Epoch [530/1000], Loss: 329539294.72\n",
      "Epoch [540/1000], Loss: 328700583.68\n",
      "Epoch [550/1000], Loss: 326058685.44\n",
      "Epoch [560/1000], Loss: 326458386.7733333\n",
      "Epoch [570/1000], Loss: 324694608.2133333\n",
      "Epoch [580/1000], Loss: 322704539.3066667\n",
      "Epoch [590/1000], Loss: 323648242.1333333\n",
      "Epoch [600/1000], Loss: 319861836.8\n",
      "Epoch [610/1000], Loss: 322147435.0933333\n",
      "Epoch [620/1000], Loss: 318523464.74666667\n",
      "Epoch [630/1000], Loss: 318079462.61333334\n",
      "Epoch [640/1000], Loss: 315724860.16\n",
      "Epoch [650/1000], Loss: 315652063.36\n",
      "Epoch [660/1000], Loss: 313225699.2\n",
      "Epoch [670/1000], Loss: 313521048.96\n",
      "Epoch [680/1000], Loss: 315033701.76\n",
      "Epoch [690/1000], Loss: 311134594.02666664\n",
      "Epoch [700/1000], Loss: 310817650.3466667\n",
      "Epoch [710/1000], Loss: 308712193.92\n",
      "Epoch [720/1000], Loss: 309554824.74666667\n",
      "Epoch [730/1000], Loss: 305624440.1066667\n",
      "Epoch [740/1000], Loss: 310264394.6666667\n",
      "Epoch [750/1000], Loss: 304595128.1066667\n",
      "Epoch [760/1000], Loss: 302105879.46666664\n",
      "Epoch [770/1000], Loss: 304035385.38666666\n",
      "Epoch [780/1000], Loss: 302468526.93333334\n",
      "Epoch [790/1000], Loss: 304545536.85333335\n",
      "Epoch [800/1000], Loss: 301420642.56\n",
      "Epoch [810/1000], Loss: 300503423.14666665\n",
      "Epoch [820/1000], Loss: 299236812.37333333\n",
      "Epoch [830/1000], Loss: 299185434.3466667\n",
      "Epoch [840/1000], Loss: 297555520.64\n",
      "Epoch [850/1000], Loss: 296808389.3333333\n",
      "Epoch [860/1000], Loss: 295265954.7733333\n",
      "Epoch [870/1000], Loss: 295036915.84\n",
      "Epoch [880/1000], Loss: 295428008.32\n",
      "Epoch [890/1000], Loss: 294816253.44\n",
      "Epoch [900/1000], Loss: 294728780.58666664\n",
      "Epoch [910/1000], Loss: 296518562.1333333\n",
      "Epoch [920/1000], Loss: 293612100.9066667\n",
      "Epoch [930/1000], Loss: 294539970.56\n",
      "Epoch [940/1000], Loss: 293642117.12\n",
      "Epoch [950/1000], Loss: 293630040.64\n",
      "Epoch [960/1000], Loss: 290344910.18666667\n",
      "Epoch [970/1000], Loss: 289746733.8666667\n",
      "Epoch [980/1000], Loss: 290439147.73333335\n",
      "Epoch [990/1000], Loss: 293449609.6\n",
      "Epoch [1000/1000], Loss: 289807940.16\n"
     ]
    }
   ],
   "source": [
    "num_epochs = 1000\n",
    "        \n",
    "\n",
    "\n",
    "for epoch in range(num_epochs):\n",
    "    model.train()\n",
    "    running_loss = 0.0\n",
    "\n",
    "    for inputs, targets in train_loader:\n",
    "        optimizer4.zero_grad()\n",
    "        outputs = model(inputs)\n",
    "        loss = criterion(outputs, targets)\n",
    "        loss.backward()\n",
    "        optimizer4.step()\n",
    "        \n",
    "        running_loss += loss.item()\n",
    "\n",
    "    if (epoch + 1) % 10 == 0:\n",
    "        print(f'Epoch [{epoch + 1}/{num_epochs}], Loss: {running_loss/len(train_loader)}')"
   ]
  },
  {
   "cell_type": "code",
   "execution_count": 28,
   "id": "73fdf1bc-aeaf-486b-b177-3dc58fc37e4e",
   "metadata": {},
   "outputs": [
    {
     "name": "stdout",
     "output_type": "stream",
     "text": [
      "Root Mean Squared Error:23218.373046875\n"
     ]
    }
   ],
   "source": [
    "model.eval()\n",
    "with torch.no_grad():\n",
    "    y_pred = model(X_valid_tensor)\n",
    "    rmse = torch.sqrt(criterion(y_pred, y_valid_tensor))\n",
    "    print(f'Root Mean Squared Error:{rmse.item()}')"
   ]
  },
  {
   "cell_type": "code",
   "execution_count": 29,
   "id": "20cc39df-a839-41dc-ab6a-c31f305db81f",
   "metadata": {},
   "outputs": [
    {
     "name": "stdout",
     "output_type": "stream",
     "text": [
      "tensor([181354.0625])\n",
      "Predicted Price: $181354.06\n"
     ]
    },
    {
     "name": "stderr",
     "output_type": "stream",
     "text": [
      "C:\\Users\\User\\anaconda3\\envs\\python\\Lib\\site-packages\\sklearn\\base.py:493: UserWarning: X does not have valid feature names, but StandardScaler was fitted with feature names\n",
      "  warnings.warn(\n"
     ]
    }
   ],
   "source": [
    "sample_input = np.array([0,0,50,10,0,1,1,1,\n",
    "        1,1,1,   1 ,   1  ,   0  ,    0  ,\n",
    "          0,   0 ,       0  ,   0  ,   0  ,   0 ])\n",
    "sample_input_scaled = scaler.transform(sample_input.reshape(1, -1))\n",
    "sample_input_tensor = torch.tensor(sample_input_scaled, dtype=torch.float32)\n",
    "\n",
    "model.eval()\n",
    "with torch.no_grad():\n",
    "    predicted_price = model(sample_input_tensor)\n",
    "    print(predicted_price)\n",
    "    print(f'Predicted Price: ${predicted_price.item() :.2f}')\n",
    "                        "
   ]
  },
  {
   "cell_type": "code",
   "execution_count": 56,
   "id": "3a473ca2-9b51-45c2-8aaf-fd1c550fd091",
   "metadata": {},
   "outputs": [],
   "source": [
    "#num = data_dropped.shape[0]   #切分為訓練,驗證及測試三份\n",
    "#indexs = np.random.permutation(num)\n",
    "#train_indexs = indexs[:int(num*0.6)]\n",
    "#val_indexs = indexs[int(num*0.6):int(num*0.8)]\n",
    "#test_indexs = indexs[int(num*0.8)]\n",
    "#train_data = data_dropped.iloc[train_indexs]\n",
    "#val_data = data_dropped.iloc[val_indexs]\n",
    "#test_data = data_dropped.iloc[test_indexs]"
   ]
  },
  {
   "cell_type": "code",
   "execution_count": 57,
   "id": "16a505f8-76cc-4086-bdd6-a9ec11d46524",
   "metadata": {},
   "outputs": [],
   "source": [
    "#TV_data = pd.concat([train_data, val_data])\n",
    "#mu = TV_data.mean()\n",
    "#std = TV_data.std()\n",
    "#train_data = (train_data-mu)/std\n",
    "#val_data = (val_data-mu)/std"
   ]
  },
  {
   "cell_type": "code",
   "execution_count": 29,
   "id": "4a309226-13e6-4f75-a3da-93d190f30390",
   "metadata": {},
   "outputs": [],
   "source": [
    "#x_train = np.array(train_data.drop('總價元', axis=1))\n",
    "#y_train = np.array(train_data['總價元'])\n",
    "#x_val = np.array(val_data.drop('總價元', axis=1))\n",
    "#y_val = np.array(val_data['總價元'])"
   ]
  },
  {
   "cell_type": "code",
   "execution_count": 30,
   "id": "994b25fe-969f-4117-88e7-2fdb24b2da6c",
   "metadata": {},
   "outputs": [],
   "source": [
    "#train_data"
   ]
  },
  {
   "cell_type": "code",
   "execution_count": null,
   "id": "6c27274c-8406-44ab-9a2b-a11029f27f15",
   "metadata": {},
   "outputs": [],
   "source": [
    "#model = tf.keras.Sequential()\n",
    "#model.add(keras.layers.Dense(512, activation = 'relu', input_shape=(23,)))\n",
    "#model.add(keras.layers.Dense(64, activation = 'relu'))\n",
    "#model.add(keras.layers.Dense(1))"
   ]
  },
  {
   "cell_type": "code",
   "execution_count": 24,
   "id": "12a0363a-af88-42fc-8224-57d7831771af",
   "metadata": {},
   "outputs": [],
   "source": [
    "#model.compile(keras.optimizers.Adam(0.001),\n",
    "#loss = keras.losses.MeanSquaredError(),\n",
    "#metrics = [keras.metrics.MeanAbsoluteError()])"
   ]
  },
  {
   "cell_type": "code",
   "execution_count": 28,
   "id": "713a7c2a-9bc6-4999-b57b-540a91a120b6",
   "metadata": {},
   "outputs": [],
   "source": [
    "#model_dir = 'models/m1/'"
   ]
  },
  {
   "cell_type": "code",
   "execution_count": 29,
   "id": "cad995b8-c7f7-46a2-a9ba-35f2855f92c6",
   "metadata": {},
   "outputs": [],
   "source": [
    "#log_dir = os.path.join('models', 'm1')\n",
    "#model_cbk=keras.callbacks.TensorBoard(log_dir=log_dir)\n",
    "#model_mckp=keras.callbacks.ModelCheckpoint(model_dir+'/Best-model-1.keras',\n",
    "#monitor='val_mean_absolute_error',\n",
    "#save_best_only=True,\n",
    "#mode='min')"
   ]
  },
  {
   "cell_type": "code",
   "execution_count": null,
   "id": "bab424d6-361f-46f2-9967-856341235c7b",
   "metadata": {},
   "outputs": [],
   "source": [
    "#history = model.fit(x_train, y_train, \n",
    "#batch_size=64,\n",
    "#epochs=1000,\n",
    "#validation_data=(x_val, y_val),\n",
    "#callbacks=[model_cbk, model_mckp])"
   ]
  },
  {
   "cell_type": "code",
   "execution_count": null,
   "id": "8136ceba-2619-44aa-844b-fa3bb63d8da9",
   "metadata": {},
   "outputs": [],
   "source": []
  }
 ],
 "metadata": {
  "kernelspec": {
   "display_name": "Python 3 (ipykernel)",
   "language": "python",
   "name": "python3"
  },
  "language_info": {
   "codemirror_mode": {
    "name": "ipython",
    "version": 3
   },
   "file_extension": ".py",
   "mimetype": "text/x-python",
   "name": "python",
   "nbconvert_exporter": "python",
   "pygments_lexer": "ipython3",
   "version": "3.11.9"
  }
 },
 "nbformat": 4,
 "nbformat_minor": 5
}
